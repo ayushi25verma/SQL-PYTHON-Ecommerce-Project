{
 "cells": [
  {
   "cell_type": "code",
   "execution_count": 1,
   "metadata": {},
   "outputs": [
    {
     "name": "stderr",
     "output_type": "stream",
     "text": [
      "C:\\Users\\ayushi verma\\AppData\\Local\\Temp\\ipykernel_19752\\2250111200.py:1: DeprecationWarning: \n",
      "Pyarrow will become a required dependency of pandas in the next major release of pandas (pandas 3.0),\n",
      "(to allow more performant data types, such as the Arrow string type, and better interoperability with other libraries)\n",
      "but was not found to be installed on your system.\n",
      "If this would cause problems for you,\n",
      "please provide us feedback at https://github.com/pandas-dev/pandas/issues/54466\n",
      "        \n",
      "  import pandas as pd\n"
     ]
    }
   ],
   "source": [
    "import pandas as pd\n",
    "import matplotlib.pyplot as plt\n",
    "import seaborn as sns\n",
    "import mysql.connector\n",
    "import numpy as np\n",
    "\n",
    "db=mysql.connector.connect(host='localhost',username='root',password='Ayushi@25',database='ecommerce')\n",
    "\n",
    "cur=db.cursor()"
   ]
  },
  {
   "cell_type": "markdown",
   "metadata": {},
   "source": [
    "* Basic Queries:-\n",
    "1-List all unique cities where customers are located."
   ]
  },
  {
   "cell_type": "code",
   "execution_count": 2,
   "metadata": {},
   "outputs": [
    {
     "data": {
      "text/html": [
       "<div>\n",
       "<style scoped>\n",
       "    .dataframe tbody tr th:only-of-type {\n",
       "        vertical-align: middle;\n",
       "    }\n",
       "\n",
       "    .dataframe tbody tr th {\n",
       "        vertical-align: top;\n",
       "    }\n",
       "\n",
       "    .dataframe thead th {\n",
       "        text-align: right;\n",
       "    }\n",
       "</style>\n",
       "<table border=\"1\" class=\"dataframe\">\n",
       "  <thead>\n",
       "    <tr style=\"text-align: right;\">\n",
       "      <th></th>\n",
       "      <th>0</th>\n",
       "    </tr>\n",
       "  </thead>\n",
       "  <tbody>\n",
       "    <tr>\n",
       "      <th>0</th>\n",
       "      <td>franca</td>\n",
       "    </tr>\n",
       "    <tr>\n",
       "      <th>1</th>\n",
       "      <td>sao bernardo do campo</td>\n",
       "    </tr>\n",
       "    <tr>\n",
       "      <th>2</th>\n",
       "      <td>sao paulo</td>\n",
       "    </tr>\n",
       "    <tr>\n",
       "      <th>3</th>\n",
       "      <td>mogi das cruzes</td>\n",
       "    </tr>\n",
       "    <tr>\n",
       "      <th>4</th>\n",
       "      <td>campinas</td>\n",
       "    </tr>\n",
       "  </tbody>\n",
       "</table>\n",
       "</div>"
      ],
      "text/plain": [
       "                       0\n",
       "0                 franca\n",
       "1  sao bernardo do campo\n",
       "2              sao paulo\n",
       "3        mogi das cruzes\n",
       "4               campinas"
      ]
     },
     "execution_count": 2,
     "metadata": {},
     "output_type": "execute_result"
    }
   ],
   "source": [
    "query = \"select distinct customer_city from customers\"\n",
    "cur.execute(query)\n",
    "data = cur.fetchall()\n",
    "df=pd.DataFrame(data)\n",
    "df.head()\n"
   ]
  },
  {
   "cell_type": "markdown",
   "metadata": {},
   "source": [
    "2- Count the number of orders placed in 2017."
   ]
  },
  {
   "cell_type": "code",
   "execution_count": 5,
   "metadata": {},
   "outputs": [
    {
     "data": {
      "text/plain": [
       "[(360808,)]"
      ]
     },
     "execution_count": 5,
     "metadata": {},
     "output_type": "execute_result"
    }
   ],
   "source": [
    "query = \"select count(order_id) from orders where year(order_purchase_timestamp) = 2017 \"\n",
    "cur.execute(query)\n",
    "data = cur.fetchall()\n",
    "data"
   ]
  },
  {
   "cell_type": "markdown",
   "metadata": {},
   "source": [
    "3-Find the total sales per category."
   ]
  },
  {
   "cell_type": "code",
   "execution_count": 6,
   "metadata": {},
   "outputs": [
    {
     "data": {
      "text/plain": [
       "[('perfumery', 88679265.48),\n",
       " ('Furniture Decoration', 250280868.56),\n",
       " ('telephony', 85204358.87),\n",
       " ('Fashion Bags and Accessories', 38177699.0),\n",
       " ('bed table bath', 299696892.43),\n",
       " ('automotive', 149151507.95),\n",
       " ('computer accessories', 277432828.1),\n",
       " ('housewares', 191582672.8),\n",
       " ('babies', 94472990.45),\n",
       " ('toys', 108331595.66),\n",
       " ('Furniture office', 113194635.25),\n",
       " ('Cool Stuff', 136447150.01),\n",
       " ('HEALTH BEAUTY', 290040295.89),\n",
       " ('pet Shop', 54472069.8),\n",
       " ('General Interest Books', 11321582.93),\n",
       " ('stationary store', 55552012.19),\n",
       " ('Watches present', 250112918.75),\n",
       " ('PCs', 48846271.14),\n",
       " ('climatization', 15954865.41),\n",
       " ('Construction Tools Construction', 42258235.3),\n",
       " ('sport leisure', 243622322.85),\n",
       " ('Bags Accessories', 32751475.82),\n",
       " ('electronics', 45474992.44),\n",
       " ('Casa Construcao', 23912925.8),\n",
       " ('Games consoles', 34209066.35),\n",
       " ('home appliances', 16718147.22),\n",
       " ('Garden tools', 146699131.39),\n",
       " ('Agro Industria e Comercio', 20777856.84),\n",
       " (None, 44240299.26),\n",
       " ('audio', 10556808.52),\n",
       " ('technical books', 4360201.99),\n",
       " ('Construction Tools Garden', 7419021.77),\n",
       " ('Market Place', 7933786.05),\n",
       " ('musical instruments', 40787971.12),\n",
       " ('Drink foods', 4775702.73),\n",
       " ('SIGNALIZATION AND SAFETY', 11985408.81),\n",
       " ('Furniture Kitchen Service Area Dinner and Garden', 13065671.47),\n",
       " ('song', 1207750.25),\n",
       " ('HOUSE PASTALS OVEN AND CAFE', 8965131.04),\n",
       " ('fixed telephony', 36226795.44),\n",
       " ('Room Furniture', 23824284.75),\n",
       " ('Construction Tools Tools', 3687087.26),\n",
       " ('House comfort', 14757585.5),\n",
       " ('Industry Commerce and Business', 9930508.02),\n",
       " ('Construction Tools Illumination', 12724683.98),\n",
       " ('ELECTRICES 2', 21798605.67),\n",
       " ('Fashion Calcados', 5673979.5),\n",
       " ('Fashion Underwear and Beach Fashion', 2225044.49),\n",
       " ('electrostile', 39477266.5),\n",
       " ('foods', 8125017.29),\n",
       " ('IMAGE IMPORT TABLETS', 1757512.75),\n",
       " ('Art', 5423762.77),\n",
       " ('drinks', 12500188.91),\n",
       " ('Arts and Crafts', 407079.75),\n",
       " (\"Fashion Women's Clothing\", 894183.49),\n",
       " ('Christmas articles', 3324084.75),\n",
       " ('Fashion Sport', 638036.0),\n",
       " ('CONSTRUCTION SECURITY TOOLS', 11495930.2),\n",
       " ('flowers', 387276.75),\n",
       " (\"Fashion Men's Clothing\", 3025921.52),\n",
       " ('Furniture', 5529814.49),\n",
       " ('Imported books', 1172830.75),\n",
       " ('cine photo', 1667806.0),\n",
       " ('Blu Ray DVDs', 1388673.99),\n",
       " ('party articles', 1044104.26),\n",
       " ('Hygiene diapers', 738718.75),\n",
       " ('House Comfort 2', 299344.5),\n",
       " ('CITTE AND UPHACK FURNITURE', 1049744.51),\n",
       " ('Kitchen portable and food coach', 758738.77),\n",
       " ('cds music dvds', 209900.25),\n",
       " ('La Cuisine', 509867.75),\n",
       " (\"Fashion Children's Clothing\", 137492.25),\n",
       " ('PC Gamer', 380525.25),\n",
       " ('insurance and services', 56789.25)]"
      ]
     },
     "execution_count": 6,
     "metadata": {},
     "output_type": "execute_result"
    }
   ],
   "source": [
    "query = \"select (products.product_category) Category, round(sum(payments.payment_value),2) Sales from products join order_items on products.product_id=order_items.product_id join payments on payments.order_id=order_items.order_id group by Category\"\n",
    "\n",
    "cur.execute(query)\n",
    "data = cur.fetchall()\n",
    "data"
   ]
  },
  {
   "cell_type": "markdown",
   "metadata": {},
   "source": [
    "##**For same we can create dataframe =\"df = pd.DataFrame(data)\"& can give columns name.=\"df = pd.DataFrame(data, columns=[\"Categories\",\"Sales\"])\"-Ex below-"
   ]
  },
  {
   "cell_type": "code",
   "execution_count": 3,
   "metadata": {},
   "outputs": [],
   "source": [
    "query = \"select upper(products.product_category) Category, round(sum(payments.payment_value),2) Sales from products join order_items on products.product_id=order_items.product_id join payments on payments.order_id=order_items.order_id group by Category\"\n",
    "\n",
    "cur.execute(query)\n",
    "data = cur.fetchall()\n",
    "df = pd.DataFrame(data)\n",
    "df = pd.DataFrame(data, columns=[\"Categories\",\"Sales\"])\n",
    "df.head()"
   ]
  },
  {
   "cell_type": "markdown",
   "metadata": {},
   "source": [
    "4- Calculate the percentage of orders that were paid in installments."
   ]
  },
  {
   "cell_type": "code",
   "execution_count": 2,
   "metadata": {},
   "outputs": [
    {
     "data": {
      "text/plain": [
       "('the percentage of orders that were paid in installments is',\n",
       " Decimal('99.9981'))"
      ]
     },
     "execution_count": 2,
     "metadata": {},
     "output_type": "execute_result"
    }
   ],
   "source": [
    "query= \"select (sum(case when payment_installments >=1 then 1 else 0 end))/count(*)*100 from payments\"\n",
    "cur.execute(query)\n",
    "data=cur.fetchall()\n",
    "\"the percentage of orders that were paid in installments is\",data[0][0]"
   ]
  },
  {
   "cell_type": "markdown",
   "metadata": {},
   "source": [
    "5- Count the number of customers from each state. "
   ]
  },
  {
   "cell_type": "code",
   "execution_count": 4,
   "metadata": {},
   "outputs": [
    {
     "data": {
      "image/png": "[encoded data removed]",
      "text/plain": [
       "<Figure size 800x300 with 1 Axes>"
      ]
     },
     "metadata": {},
     "output_type": "display_data"
    }
   ],
   "source": [
    "query=\"select customer_state,count(customer_id) from customers group by customer_state\"\n",
    "cur.execute(query)\n",
    "data=cur.fetchall()\n",
    "df=pd.DataFrame(data,columns=['States','Customer_Counts'])\n",
    "df=df.sort_values(by ='Customer_Counts', ascending=False)\n",
    "plt.figure(figsize=(8,3))\n",
    "plt.bar(df['States'],(df['Customer_Counts']))\n",
    "plt.xticks(rotation=90)\n",
    "plt.xlabel(\"States\")\n",
    "plt.ylabel('customer_counts')\n",
    "plt.title('Count of Customers by States')\n",
    "plt.show()"
   ]
  },
  {
   "cell_type": "markdown",
   "metadata": {},
   "source": [
    "* Intermediate Queries:-\n",
    "1- Calculate the number of orders per month in 2018."
   ]
  },
  {
   "cell_type": "code",
   "execution_count": 3,
   "metadata": {},
   "outputs": [
    {
     "data": {
      "image/png": "[encoded data removed]",
      "text/plain": [
       "<Figure size 640x480 with 1 Axes>"
      ]
     },
     "metadata": {},
     "output_type": "display_data"
    }
   ],
   "source": [
    "query=\"select monthname(order_purchase_timestamp) months,count(order_id) order_count from orders where year(order_purchase_timestamp) =2018 group by months\"\n",
    "cur.execute(query)\n",
    "data=cur.fetchall()\n",
    "df=pd.DataFrame(data,columns=['months','order_count'])\n",
    "o=[\"January\",\"February\",\"March\",\"April\",\"May\",\"June\",\"July\",\"August\",\"September\",\"October\"]\n",
    "ax=sns.barplot(x=df['months'],y=df['order_count'],data=df,order=o,color=\"green\")\n",
    "plt.xticks(rotation=45)\n",
    "ax.bar_label(ax.containers[0])\n",
    "plt.title(\"Count of Orders by Months in 2018\")\n",
    "plt.show()\n"
   ]
  },
  {
   "cell_type": "markdown",
   "metadata": {},
   "source": [
    "2-  Find the average number of products per order, grouped by customer city."
   ]
  },
  {
   "cell_type": "code",
   "execution_count": 2,
   "metadata": {},
   "outputs": [
    {
     "data": {
      "text/html": [
       "<div>\n",
       "<style scoped>\n",
       "    .dataframe tbody tr th:only-of-type {\n",
       "        vertical-align: middle;\n",
       "    }\n",
       "\n",
       "    .dataframe tbody tr th {\n",
       "        vertical-align: top;\n",
       "    }\n",
       "\n",
       "    .dataframe thead th {\n",
       "        text-align: right;\n",
       "    }\n",
       "</style>\n",
       "<table border=\"1\" class=\"dataframe\">\n",
       "  <thead>\n",
       "    <tr style=\"text-align: right;\">\n",
       "      <th></th>\n",
       "      <th>customer_city</th>\n",
       "      <th>average products/order</th>\n",
       "    </tr>\n",
       "  </thead>\n",
       "  <tbody>\n",
       "    <tr>\n",
       "      <th>0</th>\n",
       "      <td>padre carvalho</td>\n",
       "      <td>280.00</td>\n",
       "    </tr>\n",
       "    <tr>\n",
       "      <th>1</th>\n",
       "      <td>celso ramos</td>\n",
       "      <td>260.00</td>\n",
       "    </tr>\n",
       "    <tr>\n",
       "      <th>2</th>\n",
       "      <td>datas</td>\n",
       "      <td>240.00</td>\n",
       "    </tr>\n",
       "    <tr>\n",
       "      <th>3</th>\n",
       "      <td>candido godoi</td>\n",
       "      <td>240.00</td>\n",
       "    </tr>\n",
       "    <tr>\n",
       "      <th>4</th>\n",
       "      <td>matias olimpio</td>\n",
       "      <td>200.00</td>\n",
       "    </tr>\n",
       "    <tr>\n",
       "      <th>5</th>\n",
       "      <td>cidelandia</td>\n",
       "      <td>160.00</td>\n",
       "    </tr>\n",
       "    <tr>\n",
       "      <th>6</th>\n",
       "      <td>morro de sao paulo</td>\n",
       "      <td>160.00</td>\n",
       "    </tr>\n",
       "    <tr>\n",
       "      <th>7</th>\n",
       "      <td>teixeira soares</td>\n",
       "      <td>160.00</td>\n",
       "    </tr>\n",
       "    <tr>\n",
       "      <th>8</th>\n",
       "      <td>picarra</td>\n",
       "      <td>160.00</td>\n",
       "    </tr>\n",
       "    <tr>\n",
       "      <th>9</th>\n",
       "      <td>curralinho</td>\n",
       "      <td>160.00</td>\n",
       "    </tr>\n",
       "  </tbody>\n",
       "</table>\n",
       "</div>"
      ],
      "text/plain": [
       "        customer_city average products/order\n",
       "0      padre carvalho                 280.00\n",
       "1         celso ramos                 260.00\n",
       "2               datas                 240.00\n",
       "3       candido godoi                 240.00\n",
       "4      matias olimpio                 200.00\n",
       "5          cidelandia                 160.00\n",
       "6  morro de sao paulo                 160.00\n",
       "7     teixeira soares                 160.00\n",
       "8             picarra                 160.00\n",
       "9          curralinho                 160.00"
      ]
     },
     "execution_count": 2,
     "metadata": {},
     "output_type": "execute_result"
    }
   ],
   "source": [
    "query= \"\"\"with count_per_order as\n",
    " (select orders.order_id,orders.customer_id,count(order_items.order_id)as OC from orders join order_items\n",
    " on orders.order_id=order_items.order_id\n",
    " group by orders.order_id,orders.customer_id)\n",
    " \n",
    " select customers.customer_city,round(avg(count_per_order.OC),2)average_order\n",
    " from customers join count_per_order\n",
    " on customers.customer_id=count_per_order.customer_id\n",
    " group by customers.customer_city order by average_order desc limit 10\n",
    "\n",
    "\"\"\"\n",
    "\n",
    "cur.execute(query)\n",
    "data=cur.fetchall()\n",
    "df=pd.DataFrame(data,columns=['customer_city','average products/order'])\n",
    "df"
   ]
  },
  {
   "cell_type": "markdown",
   "metadata": {},
   "source": [
    "3- Calculate the percentage of total revenue contributed by each product category."
   ]
  },
  {
   "cell_type": "code",
   "execution_count": 3,
   "metadata": {},
   "outputs": [
    {
     "data": {
      "text/html": [
       "<div>\n",
       "<style scoped>\n",
       "    .dataframe tbody tr th:only-of-type {\n",
       "        vertical-align: middle;\n",
       "    }\n",
       "\n",
       "    .dataframe tbody tr th {\n",
       "        vertical-align: top;\n",
       "    }\n",
       "\n",
       "    .dataframe thead th {\n",
       "        text-align: right;\n",
       "    }\n",
       "</style>\n",
       "<table border=\"1\" class=\"dataframe\">\n",
       "  <thead>\n",
       "    <tr style=\"text-align: right;\">\n",
       "      <th></th>\n",
       "      <th>category</th>\n",
       "      <th>percentage distribution</th>\n",
       "    </tr>\n",
       "  </thead>\n",
       "  <tbody>\n",
       "    <tr>\n",
       "      <th>0</th>\n",
       "      <td>bed table bath</td>\n",
       "      <td>374.41</td>\n",
       "    </tr>\n",
       "    <tr>\n",
       "      <th>1</th>\n",
       "      <td>HEALTH BEAUTY</td>\n",
       "      <td>362.35</td>\n",
       "    </tr>\n",
       "    <tr>\n",
       "      <th>2</th>\n",
       "      <td>computer accessories</td>\n",
       "      <td>346.60</td>\n",
       "    </tr>\n",
       "    <tr>\n",
       "      <th>3</th>\n",
       "      <td>Furniture Decoration</td>\n",
       "      <td>312.68</td>\n",
       "    </tr>\n",
       "    <tr>\n",
       "      <th>4</th>\n",
       "      <td>Watches present</td>\n",
       "      <td>312.47</td>\n",
       "    </tr>\n",
       "  </tbody>\n",
       "</table>\n",
       "</div>"
      ],
      "text/plain": [
       "               category  percentage distribution\n",
       "0        bed table bath                   374.41\n",
       "1         HEALTH BEAUTY                   362.35\n",
       "2  computer accessories                   346.60\n",
       "3  Furniture Decoration                   312.68\n",
       "4       Watches present                   312.47"
      ]
     },
     "execution_count": 3,
     "metadata": {},
     "output_type": "execute_result"
    }
   ],
   "source": [
    "query=\"\"\"select (products.product_category) Category,round(sum(payments.payment_value)/(select sum(payment_value)from payments)*100,2)Sales_percentage\n",
    "from products join order_items on products.product_id=order_items.product_id\n",
    "join payments on payments.order_id=order_items.order_id group by Category order by sales_percentage desc\"\"\"\n",
    "cur.execute(query)\n",
    "data=cur.fetchall()\n",
    "df=pd.DataFrame(data,columns=['category','percentage distribution'])\n",
    "df.head()"
   ]
  },
  {
   "cell_type": "markdown",
   "metadata": {},
   "source": [
    "4-Identify the correlation between product price and the number of times a product has been purchased."
   ]
  },
  {
   "cell_type": "code",
   "execution_count": 9,
   "metadata": {},
   "outputs": [
    {
     "name": "stdout",
     "output_type": "stream",
     "text": [
      "the correlation between product price and the number of times a product has been purchased is -0.10631514167157562\n"
     ]
    }
   ],
   "source": [
    "query = \"\"\"select (products.product_category),count(order_items.order_id)product_count,\n",
    "round(avg(order_items.price),2) product_price from products\n",
    "join order_items on products.product_id=order_items.product_id\n",
    "group by products.product_category\n",
    "\"\"\"\n",
    "cur.execute(query)\n",
    "data=cur.fetchall()\n",
    "df=pd.DataFrame(data,columns=['category','product count','product price'])\n",
    "df\n",
    "arr1=df['product count']\n",
    "arr2=df['product price']     \n",
    "a=np.corrcoef(arr1,arr2) \n",
    "print(\"the correlation between product price and the number of times a product has been purchased is\", a[0][-1])  \n"
   ]
  },
  {
   "cell_type": "markdown",
   "metadata": {},
   "source": [
    "5- Calculate the total revenue generated by each seller, and rank them by revenue."
   ]
  },
  {
   "cell_type": "code",
   "execution_count": 8,
   "metadata": {},
   "outputs": [
    {
     "data": {
      "text/html": [
       "<div>\n",
       "<style scoped>\n",
       "    .dataframe tbody tr th:only-of-type {\n",
       "        vertical-align: middle;\n",
       "    }\n",
       "\n",
       "    .dataframe tbody tr th {\n",
       "        vertical-align: top;\n",
       "    }\n",
       "\n",
       "    .dataframe thead th {\n",
       "        text-align: right;\n",
       "    }\n",
       "</style>\n",
       "<table border=\"1\" class=\"dataframe\">\n",
       "  <thead>\n",
       "    <tr style=\"text-align: right;\">\n",
       "      <th></th>\n",
       "      <th>seller_id</th>\n",
       "      <th>revenue</th>\n",
       "      <th>rank</th>\n",
       "    </tr>\n",
       "  </thead>\n",
       "  <tbody>\n",
       "    <tr>\n",
       "      <th>0</th>\n",
       "      <td>7c67e1448b00f6e969d365cea6b010ab</td>\n",
       "      <td>12679172.68</td>\n",
       "      <td>1</td>\n",
       "    </tr>\n",
       "    <tr>\n",
       "      <th>1</th>\n",
       "      <td>1025f0e2d44d7041d6cf58b6550e0bfa</td>\n",
       "      <td>7705551.00</td>\n",
       "      <td>2</td>\n",
       "    </tr>\n",
       "    <tr>\n",
       "      <th>2</th>\n",
       "      <td>4a3ca9315b744ce9f8e9374361493884</td>\n",
       "      <td>7531131.74</td>\n",
       "      <td>3</td>\n",
       "    </tr>\n",
       "    <tr>\n",
       "      <th>3</th>\n",
       "      <td>1f50f920176fa81dab994f9023523100</td>\n",
       "      <td>7256335.50</td>\n",
       "      <td>4</td>\n",
       "    </tr>\n",
       "    <tr>\n",
       "      <th>4</th>\n",
       "      <td>53243585a1d6dc2643021fd1853d8905</td>\n",
       "      <td>7122577.01</td>\n",
       "      <td>5</td>\n",
       "    </tr>\n",
       "  </tbody>\n",
       "</table>\n",
       "</div>"
      ],
      "text/plain": [
       "                          seller_id      revenue  rank\n",
       "0  7c67e1448b00f6e969d365cea6b010ab  12679172.68     1\n",
       "1  1025f0e2d44d7041d6cf58b6550e0bfa   7705551.00     2\n",
       "2  4a3ca9315b744ce9f8e9374361493884   7531131.74     3\n",
       "3  1f50f920176fa81dab994f9023523100   7256335.50     4\n",
       "4  53243585a1d6dc2643021fd1853d8905   7122577.01     5"
      ]
     },
     "execution_count": 8,
     "metadata": {},
     "output_type": "execute_result"
    }
   ],
   "source": [
    "query= \"\"\" select *,dense_rank()over(order by revenue desc)as rnk from\n",
    "(select order_items.seller_id,round(sum(payments.payment_value),2)\n",
    "revenue from order_items join payments\n",
    "on order_items.order_id=payments.order_id\n",
    "group by order_items.seller_id) as a\"\"\"\n",
    "\n",
    "cur.execute(query)\n",
    "data=cur.fetchall()\n",
    "df=pd.DataFrame(data,columns=['seller_id','revenue','rank'])\n",
    "df.head(5)\n"
   ]
  },
  {
   "cell_type": "markdown",
   "metadata": {},
   "source": [
    "* Advanced Queries:-\n",
    "1. Calculate the moving average of order values for each customer over their order history."
   ]
  },
  {
   "cell_type": "code",
   "execution_count": null,
   "metadata": {},
   "outputs": [
    {
     "data": {
      "text/html": [
       "<div>\n",
       "<style scoped>\n",
       "    .dataframe tbody tr th:only-of-type {\n",
       "        vertical-align: middle;\n",
       "    }\n",
       "\n",
       "    .dataframe tbody tr th {\n",
       "        vertical-align: top;\n",
       "    }\n",
       "\n",
       "    .dataframe thead th {\n",
       "        text-align: right;\n",
       "    }\n",
       "</style>\n",
       "<table border=\"1\" class=\"dataframe\">\n",
       "  <thead>\n",
       "    <tr style=\"text-align: right;\">\n",
       "      <th></th>\n",
       "      <th>customer_id</th>\n",
       "      <th>order purchace timestamp</th>\n",
       "      <th>payment</th>\n",
       "      <th>mov_avg</th>\n",
       "    </tr>\n",
       "  </thead>\n",
       "  <tbody>\n",
       "    <tr>\n",
       "      <th>0</th>\n",
       "      <td>00012a2ce6f8dcda20d059ce98491703</td>\n",
       "      <td>2017-11-14 16:08:26</td>\n",
       "      <td>114.74</td>\n",
       "      <td>114.739998</td>\n",
       "    </tr>\n",
       "    <tr>\n",
       "      <th>1</th>\n",
       "      <td>00012a2ce6f8dcda20d059ce98491703</td>\n",
       "      <td>2017-11-14 16:08:26</td>\n",
       "      <td>114.74</td>\n",
       "      <td>114.739998</td>\n",
       "    </tr>\n",
       "    <tr>\n",
       "      <th>2</th>\n",
       "      <td>00012a2ce6f8dcda20d059ce98491703</td>\n",
       "      <td>2017-11-14 16:08:26</td>\n",
       "      <td>114.74</td>\n",
       "      <td>114.739998</td>\n",
       "    </tr>\n",
       "    <tr>\n",
       "      <th>3</th>\n",
       "      <td>00012a2ce6f8dcda20d059ce98491703</td>\n",
       "      <td>2017-11-14 16:08:26</td>\n",
       "      <td>114.74</td>\n",
       "      <td>114.739998</td>\n",
       "    </tr>\n",
       "    <tr>\n",
       "      <th>4</th>\n",
       "      <td>00012a2ce6f8dcda20d059ce98491703</td>\n",
       "      <td>2017-11-14 16:08:26</td>\n",
       "      <td>114.74</td>\n",
       "      <td>114.739998</td>\n",
       "    </tr>\n",
       "  </tbody>\n",
       "</table>\n",
       "</div>"
      ],
      "text/plain": [
       "                        customer_id order purchace timestamp  payment  \\\n",
       "0  00012a2ce6f8dcda20d059ce98491703      2017-11-14 16:08:26   114.74   \n",
       "1  00012a2ce6f8dcda20d059ce98491703      2017-11-14 16:08:26   114.74   \n",
       "2  00012a2ce6f8dcda20d059ce98491703      2017-11-14 16:08:26   114.74   \n",
       "3  00012a2ce6f8dcda20d059ce98491703      2017-11-14 16:08:26   114.74   \n",
       "4  00012a2ce6f8dcda20d059ce98491703      2017-11-14 16:08:26   114.74   \n",
       "\n",
       "      mov_avg  \n",
       "0  114.739998  \n",
       "1  114.739998  \n",
       "2  114.739998  \n",
       "3  114.739998  \n",
       "4  114.739998  "
      ]
     },
     "execution_count": 4,
     "metadata": {},
     "output_type": "execute_result"
    }
   ],
   "source": [
    "query=\"\"\"select customer_id,order_purchase_timestamp,payment,\n",
    "avg(payment)over(partition by customer_id order by order_purchase_timestamp\n",
    "rows between 2 preceding and current row)as mov_avg \n",
    "from\n",
    "(select orders.customer_id,orders.order_purchase_timestamp,payments.payment_value payment\n",
    "from payments join orders\n",
    "on orders.order_id=payments.order_id) as a limit 10\"\"\"\n",
    "cur.execute(query)\n",
    "data=cur.fetchall()\n",
    "df=pd.DataFrame(data,columns=['customer_id','order purchace timestamp','payment','mov_avg'])\n",
    "df.head()"
   ]
  },
  {
   "cell_type": "markdown",
   "metadata": {},
   "source": [
    "2. Calculate the cumulative sales per month for each year."
   ]
  },
  {
   "cell_type": "code",
   "execution_count": null,
   "metadata": {},
   "outputs": [
    {
     "data": {
      "text/html": [
       "<div>\n",
       "<style scoped>\n",
       "    .dataframe tbody tr th:only-of-type {\n",
       "        vertical-align: middle;\n",
       "    }\n",
       "\n",
       "    .dataframe tbody tr th {\n",
       "        vertical-align: top;\n",
       "    }\n",
       "\n",
       "    .dataframe thead th {\n",
       "        text-align: right;\n",
       "    }\n",
       "</style>\n",
       "<table border=\"1\" class=\"dataframe\">\n",
       "  <thead>\n",
       "    <tr style=\"text-align: right;\">\n",
       "      <th></th>\n",
       "      <th>years</th>\n",
       "      <th>months</th>\n",
       "      <th>payment</th>\n",
       "      <th>cumulative sales</th>\n",
       "    </tr>\n",
       "  </thead>\n",
       "  <tbody>\n",
       "    <tr>\n",
       "      <th>0</th>\n",
       "      <td>2016</td>\n",
       "      <td>9</td>\n",
       "      <td>10089.60</td>\n",
       "      <td>10089.60</td>\n",
       "    </tr>\n",
       "    <tr>\n",
       "      <th>1</th>\n",
       "      <td>2016</td>\n",
       "      <td>10</td>\n",
       "      <td>2363619.20</td>\n",
       "      <td>2373708.80</td>\n",
       "    </tr>\n",
       "    <tr>\n",
       "      <th>2</th>\n",
       "      <td>2016</td>\n",
       "      <td>12</td>\n",
       "      <td>784.80</td>\n",
       "      <td>2374493.60</td>\n",
       "    </tr>\n",
       "    <tr>\n",
       "      <th>3</th>\n",
       "      <td>2017</td>\n",
       "      <td>1</td>\n",
       "      <td>5539521.60</td>\n",
       "      <td>7914015.20</td>\n",
       "    </tr>\n",
       "    <tr>\n",
       "      <th>4</th>\n",
       "      <td>2017</td>\n",
       "      <td>2</td>\n",
       "      <td>11676320.38</td>\n",
       "      <td>19590335.58</td>\n",
       "    </tr>\n",
       "    <tr>\n",
       "      <th>5</th>\n",
       "      <td>2017</td>\n",
       "      <td>3</td>\n",
       "      <td>17994543.98</td>\n",
       "      <td>37584879.56</td>\n",
       "    </tr>\n",
       "    <tr>\n",
       "      <th>6</th>\n",
       "      <td>2017</td>\n",
       "      <td>4</td>\n",
       "      <td>16711521.18</td>\n",
       "      <td>54296400.74</td>\n",
       "    </tr>\n",
       "    <tr>\n",
       "      <th>7</th>\n",
       "      <td>2017</td>\n",
       "      <td>5</td>\n",
       "      <td>23716752.81</td>\n",
       "      <td>78013153.55</td>\n",
       "    </tr>\n",
       "  </tbody>\n",
       "</table>\n",
       "</div>"
      ],
      "text/plain": [
       "   years  months      payment  cumulative sales\n",
       "0   2016       9     10089.60          10089.60\n",
       "1   2016      10   2363619.20        2373708.80\n",
       "2   2016      12       784.80        2374493.60\n",
       "3   2017       1   5539521.60        7914015.20\n",
       "4   2017       2  11676320.38       19590335.58\n",
       "5   2017       3  17994543.98       37584879.56\n",
       "6   2017       4  16711521.18       54296400.74\n",
       "7   2017       5  23716752.81       78013153.55"
      ]
     },
     "execution_count": 3,
     "metadata": {},
     "output_type": "execute_result"
    }
   ],
   "source": [
    "query= \"\"\"select years,months,payment,sum(payment) over (order by years,months) cumulative_sales from\n",
    "(select year(orders.order_purchase_timestamp) years,month(orders.order_purchase_timestamp) months, round(sum(payments.payment_value),2) payment\n",
    "from orders join payments \n",
    "on orders.order_id=payments.order_id\n",
    "group by years,months order by years,months) as a\n",
    "\"\"\"\n",
    "cur.execute(query)\n",
    "data=cur.fetchall()\n",
    "df=pd.DataFrame(data,columns=['years','months','payment','cumulative sales'])\n",
    "df.head(8)"
   ]
  },
  {
   "cell_type": "markdown",
   "metadata": {},
   "source": [
    "3. Calculate the year-over-year growth rate of total sales."
   ]
  },
  {
   "cell_type": "code",
   "execution_count": null,
   "metadata": {},
   "outputs": [
    {
     "data": {
      "text/html": [
       "<div>\n",
       "<style scoped>\n",
       "    .dataframe tbody tr th:only-of-type {\n",
       "        vertical-align: middle;\n",
       "    }\n",
       "\n",
       "    .dataframe tbody tr th {\n",
       "        vertical-align: top;\n",
       "    }\n",
       "\n",
       "    .dataframe thead th {\n",
       "        text-align: right;\n",
       "    }\n",
       "</style>\n",
       "<table border=\"1\" class=\"dataframe\">\n",
       "  <thead>\n",
       "    <tr style=\"text-align: right;\">\n",
       "      <th></th>\n",
       "      <th>years</th>\n",
       "      <th>yoy%growth</th>\n",
       "    </tr>\n",
       "  </thead>\n",
       "  <tbody>\n",
       "    <tr>\n",
       "      <th>0</th>\n",
       "      <td>2016</td>\n",
       "      <td>NaN</td>\n",
       "    </tr>\n",
       "    <tr>\n",
       "      <th>1</th>\n",
       "      <td>2017</td>\n",
       "      <td>12112.703758</td>\n",
       "    </tr>\n",
       "    <tr>\n",
       "      <th>2</th>\n",
       "      <td>2018</td>\n",
       "      <td>20.000924</td>\n",
       "    </tr>\n",
       "  </tbody>\n",
       "</table>\n",
       "</div>"
      ],
      "text/plain": [
       "   years    yoy%growth\n",
       "0   2016           NaN\n",
       "1   2017  12112.703758\n",
       "2   2018     20.000924"
      ]
     },
     "execution_count": 2,
     "metadata": {},
     "output_type": "execute_result"
    }
   ],
   "source": [
    "query=\"\"\"with a as(select year(orders.order_purchase_timestamp) years,\n",
    "round(sum(payments.payment_value),3) payment\n",
    "from orders join payments \n",
    "on orders.order_id=payments.order_id\n",
    "group by years order by years)\n",
    "\n",
    "select years, ((payment-lag(payment,1)over (order by years))/\n",
    "lag(payment,1) over(order by years))*100 from a \"\"\"\n",
    "cur.execute(query)\n",
    "data=cur.fetchall()\n",
    "df=pd.DataFrame(data,columns=['years','yoy%growth'])\n",
    "df"
   ]
  },
  {
   "cell_type": "markdown",
   "metadata": {},
   "source": [
    "4. Calculate the retention rate of customers, defined as the percentage of customers who make another purchase within 6 months of their first purchase."
   ]
  },
  {
   "cell_type": "code",
   "execution_count": null,
   "metadata": {},
   "outputs": [
    {
     "data": {
      "text/html": [
       "<div>\n",
       "<style scoped>\n",
       "    .dataframe tbody tr th:only-of-type {\n",
       "        vertical-align: middle;\n",
       "    }\n",
       "\n",
       "    .dataframe tbody tr th {\n",
       "        vertical-align: top;\n",
       "    }\n",
       "\n",
       "    .dataframe thead th {\n",
       "        text-align: right;\n",
       "    }\n",
       "</style>\n",
       "<table border=\"1\" class=\"dataframe\">\n",
       "  <thead>\n",
       "    <tr style=\"text-align: right;\">\n",
       "      <th></th>\n",
       "      <th>0</th>\n",
       "    </tr>\n",
       "  </thead>\n",
       "  <tbody>\n",
       "    <tr>\n",
       "      <th>0</th>\n",
       "      <td>None</td>\n",
       "    </tr>\n",
       "  </tbody>\n",
       "</table>\n",
       "</div>"
      ],
      "text/plain": [
       "      0\n",
       "0  None"
      ]
     },
     "execution_count": 2,
     "metadata": {},
     "output_type": "execute_result"
    }
   ],
   "source": [
    "query = \"\"\"with a as\n",
    "(select customers.customer_id,min(orders.order_purchase_timestamp) first_order\n",
    "from customers join orders \n",
    "on customers.customer_id=orders.customer_id\n",
    "group by customers.customer_id), \n",
    "\n",
    " b as(select a.customer_id,count(distinct orders.order_purchase_timestamp) next_order\n",
    "from a join orders \n",
    "on orders.customer_id=a.customer_id\n",
    "and orders.order_purchase_timestamp > first_order \n",
    "and  orders.order_purchase_timestamp < date_add(first_order, interval 6 month)\n",
    "group by a.customer_id)\n",
    "select 100*(count(distinct a.customer_id) /count(distinct b.customer_id))\n",
    "from a left join b \n",
    "on a.customer_id=b.customer_id;\n",
    "\"\"\"\n",
    "\n",
    "cur.execute(query)\n",
    "data=cur.fetchall()\n",
    "df=pd.DataFrame(data)\n",
    "df"
   ]
  },
  {
   "cell_type": "markdown",
   "metadata": {},
   "source": [
    "5. Identify the top 3 customers who spent the most money in each year."
   ]
  },
  {
   "cell_type": "code",
   "execution_count": 7,
   "metadata": {},
   "outputs": [
    {
     "data": {
      "image/png": "[encoded data removed]",
      "text/plain": [
       "<Figure size 640x480 with 1 Axes>"
      ]
     },
     "metadata": {},
     "output_type": "display_data"
    },
    {
     "data": {
      "text/plain": [
       "<Figure size 800x300 with 0 Axes>"
      ]
     },
     "metadata": {},
     "output_type": "display_data"
    }
   ],
   "source": [
    "query = \"\"\"select years,customer_id,payment,d_rank\n",
    "from\n",
    "(select year(orders.order_purchase_timestamp)years,\n",
    "orders.customer_id,\n",
    "sum(payments.payment_value)payment,\n",
    "dense_rank()over(partition by year(orders.order_purchase_timestamp)\n",
    "order by sum(payments.payment_value)desc) d_rank\n",
    "from orders join payments\n",
    "on payments.order_id=orders.order_id\n",
    "group by year(orders.order_purchase_timestamp),\n",
    "orders.customer_id)as a \n",
    "where d_rank <=3\n",
    "\"\"\"\n",
    "\n",
    "cur.execute(query)\n",
    "data=cur.fetchall()\n",
    "df=pd.DataFrame(data,columns=['years','id','payment','rank'])\n",
    "sns.barplot(x='id',y='payment',data=df,hue='years')\n",
    "plt.title(\"Top 3 Customers of Each Year\")\n",
    "plt.xticks(rotation=90)\n",
    "plt.figure(figsize=(8,3))\n",
    "plt.show()\n"
   ]
  }
 ],
 "metadata": {
  "kernelspec": {
   "display_name": "Python 3",
   "language": "python",
   "name": "python3"
  },
  "language_info": {
   "codemirror_mode": {
    "name": "ipython",
    "version": 3
   },
   "file_extension": ".py",
   "mimetype": "text/x-python",
   "name": "python",
   "nbconvert_exporter": "python",
   "pygments_lexer": "ipython3",
   "version": "3.12.1"
  }
 },
 "nbformat": 4,
 "nbformat_minor": 2
}
